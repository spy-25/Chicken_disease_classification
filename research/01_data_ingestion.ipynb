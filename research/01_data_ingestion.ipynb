{
 "cells": [
  {
   "cell_type": "code",
   "execution_count": 168,
   "metadata": {},
   "outputs": [],
   "source": [
    "import os"
   ]
  },
  {
   "cell_type": "code",
   "execution_count": 169,
   "metadata": {},
   "outputs": [
    {
     "data": {
      "text/plain": [
       "'c:\\\\'"
      ]
     },
     "execution_count": 169,
     "metadata": {},
     "output_type": "execute_result"
    }
   ],
   "source": [
    "%pwd"
   ]
  },
  {
   "cell_type": "code",
   "execution_count": 170,
   "metadata": {},
   "outputs": [],
   "source": [
    "os.chdir(\"../\")"
   ]
  },
  {
   "cell_type": "code",
   "execution_count": 171,
   "metadata": {},
   "outputs": [
    {
     "data": {
      "text/plain": [
       "'c:\\\\'"
      ]
     },
     "execution_count": 171,
     "metadata": {},
     "output_type": "execute_result"
    }
   ],
   "source": [
    "%pwd"
   ]
  },
  {
   "cell_type": "code",
   "execution_count": 172,
   "metadata": {},
   "outputs": [],
   "source": [
    "from dataclasses import dataclass\n",
    "from pathlib import Path\n",
    "\n",
    "\n",
    "@dataclass(frozen=True)\n",
    "class DataIngestionConfig:\n",
    "    root_dir: Path\n",
    "    source_URL: str\n",
    "    local_data_file: Path\n",
    "    unzip_dir: Path"
   ]
  },
  {
   "cell_type": "code",
   "execution_count": 173,
   "metadata": {},
   "outputs": [],
   "source": [
    "from GGDDClassifier.constants import *\n",
    "from GGDDClassifier.utils.common import read_yaml, create_directories"
   ]
  },
  {
   "cell_type": "code",
   "execution_count": 174,
   "metadata": {},
   "outputs": [],
   "source": [
    "class ConfigurationManager:\n",
    "    def __init__(\n",
    "        self,\n",
    "        config_filepath = CONFIG_FILE_PATH,\n",
    "        params_filepath = PARAMS_FILE_PATH):\n",
    "\n",
    "        self.config = read_yaml(config_filepath)\n",
    "        self.params = read_yaml(params_filepath)\n",
    "\n",
    "        create_directories([self.config.artifacts_root])\n",
    "\n",
    "\n",
    "    \n",
    "    def get_data_ingestion_config(self) -> DataIngestionConfig:\n",
    "        config = self.config.data_ingestion\n",
    "\n",
    "        create_directories([config.root_dir])\n",
    "\n",
    "        data_ingestion_config = DataIngestionConfig(\n",
    "            root_dir=config.root_dir,\n",
    "            source_URL=config.source_URL,\n",
    "            local_data_file=config.local_data_file,\n",
    "            unzip_dir=config.unzip_dir \n",
    "        )\n",
    "\n",
    "        return data_ingestion_config\n",
    "      \n"
   ]
  },
  {
   "cell_type": "code",
   "execution_count": 175,
   "metadata": {},
   "outputs": [],
   "source": [
    "import os\n",
    "import urllib.request as request\n",
    "import zipfile\n",
    "from GGDDClassifier import logger\n",
    "from GGDDClassifier.utils.common import get_size"
   ]
  },
  {
   "cell_type": "code",
   "execution_count": 176,
   "metadata": {},
   "outputs": [],
   "source": [
    "class DataIngestion:\n",
    "    def __init__(self, config: DataIngestionConfig):\n",
    "        self.config = config\n",
    "\n",
    "\n",
    "    \n",
    "    def download_file(self):\n",
    "        if not os.path.exists(self.config.local_data_file):\n",
    "            filename, headers = request.urlretrieve(\n",
    "                url = self.config.source_URL,\n",
    "                filename = self.config.local_data_file\n",
    "            )\n",
    "            logger.info(f\"{filename} download! with following info: \\n{headers}\")\n",
    "        else:\n",
    "            logger.info(f\"File already exists of size: {get_size(Path(self.config.local_data_file))}\")  \n",
    "\n",
    "\n",
    "    \n",
    "    def extract_zip_file(self):\n",
    "        \"\"\"\n",
    "        zip_file_path: str\n",
    "        Extracts the zip file into the data directory\n",
    "        Function returns None\n",
    "        \"\"\"\n",
    "        unzip_path = self.config.unzip_dir\n",
    "        os.makedirs(unzip_path, exist_ok=True)\n",
    "        with zipfile.ZipFile(self.config.local_data_file, 'r') as zip_ref:\n",
    "            zip_ref.extractall(unzip_path)"
   ]
  },
  {
   "cell_type": "code",
   "execution_count": 182,
   "metadata": {},
   "outputs": [],
   "source": [
    "import os\n",
    "import requests\n",
    "import zipfile\n",
    "\n",
    "class DataIngestion:\n",
    "    def __init__(self, config):\n",
    "        self.config = config\n",
    "\n",
    "    def download_file(self):\n",
    "        source_url = self.config['source_URL']\n",
    "        local_data_file = self.config['local_data_file']\n",
    "        response = requests.get(source_url)\n",
    "        with open(local_data_file, 'wb') as file:\n",
    "            file.write(response.content)\n",
    "\n",
    "    def extract_zip_file(self):\n",
    "        local_data_file = self.config['local_data_file']\n",
    "        unzip_dir = self.config['unzip_dir']\n",
    "        with zipfile.ZipFile(local_data_file, 'r') as zip_ref:\n",
    "            zip_ref.extractall(unzip_dir)\n",
    "\n",
    "# Your existing code with the DataIngestion class defined\n",
    "\n",
    "current_directory = os.getcwd()\n",
    "artifacts_directory = os.path.join(current_directory, 'artifacts')\n",
    "data_ingestion_config = {\n",
    "    'artifacts_root': artifacts_directory,\n",
    "    'data_ingestion': {\n",
    "        'root_dir': current_directory,\n",
    "        'source_URL': 'https://github.com/spy-25/datasets/raw/main/chicken_fecal_images.zip',\n",
    "        'local_data_file': os.path.join(artifacts_directory, 'data.zip'),\n",
    "        'unzip_dir': artifacts_directory\n",
    "    }\n",
    "}\n",
    "\n",
    "try:\n",
    "    os.makedirs(artifacts_directory, exist_ok=True)\n",
    "    data_ingestion_config_inner = data_ingestion_config['data_ingestion']\n",
    "    data_ingestion = DataIngestion(config=data_ingestion_config_inner)\n",
    "    data_ingestion.download_file()\n",
    "    data_ingestion.extract_zip_file()\n",
    "except Exception as e:\n",
    "    print(\"An error occurred:\", e)"
   ]
  },
  {
   "cell_type": "code",
   "execution_count": null,
   "metadata": {},
   "outputs": [],
   "source": [
    "import os\n",
    "import platform\n",
    "import requests\n",
    "import zipfile\n",
    "import subprocess\n",
    "\n",
    "class DataIngestion:\n",
    "    def __init__(self, config):\n",
    "        self.config = config\n",
    "\n",
    "    def download_file(self):\n",
    "        source_url = self.config['source_URL']\n",
    "        local_data_file = self.config['local_data_file']\n",
    "        response = requests.get(source_url)\n",
    "        with open(local_data_file, 'wb') as file:\n",
    "            file.write(response.content)\n",
    "\n",
    "    def extract_zip_file(self):\n",
    "        local_data_file = self.config['local_data_file']\n",
    "        unzip_dir = self.config['unzip_dir']\n",
    "        with zipfile.ZipFile(local_data_file, 'r') as zip_ref:\n",
    "            zip_ref.extractall(unzip_dir)\n",
    "\n",
    "def open_folder(directory):\n",
    "    system = platform.system()\n",
    "    if system == 'Windows':\n",
    "        os.startfile(directory)\n",
    "    elif system == 'Darwin':  # macOS\n",
    "        subprocess.Popen(['open', directory])\n",
    "    elif system == 'Linux':\n",
    "        subprocess.Popen(['xdg-open', directory])\n",
    "\n",
    "# Your existing code with the DataIngestion class defined\n",
    "\n",
    "current_directory = os.getcwd()\n",
    "artifacts_directory = os.path.join(current_directory, 'artifacts')\n",
    "data_ingestion_config = {\n",
    "    'artifacts_root': artifacts_directory,\n",
    "    'data_ingestion': {\n",
    "        'root_dir': current_directory,\n",
    "        'source_URL': 'https://github.com/spy-25/datasets/raw/main/chicken_fecal_images.zip',\n",
    "        'local_data_file': os.path.join(artifacts_directory, 'data.zip'),\n",
    "        'unzip_dir': artifacts_directory\n",
    "    }\n",
    "}\n",
    "\n",
    "try:\n",
    "    os.makedirs(artifacts_directory, exist_ok=True)\n",
    "    data_ingestion_config_inner = data_ingestion_config['data_ingestion']\n",
    "    data_ingestion = DataIngestion(config=data_ingestion_config_inner)\n",
    "    data_ingestion.download_file()\n",
    "    print(\"File downloaded successfully.\")\n",
    "    data_ingestion.extract_zip_file()\n",
    "    print(\"Extraction completed successfully. Opening folder...\")\n",
    "    open_folder(artifacts_directory)\n",
    "except Exception as e:\n",
    "    print(\"An error occurred:\", e)\n"
   ]
  }
 ],
 "metadata": {
  "kernelspec": {
   "display_name": "myenv",
   "language": "python",
   "name": "python3"
  },
  "language_info": {
   "codemirror_mode": {
    "name": "ipython",
    "version": 3
   },
   "file_extension": ".py",
   "mimetype": "text/x-python",
   "name": "python",
   "nbconvert_exporter": "python",
   "pygments_lexer": "ipython3",
   "version": "3.11.4"
  }
 },
 "nbformat": 4,
 "nbformat_minor": 2
}
